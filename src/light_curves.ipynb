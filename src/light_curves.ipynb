{
 "cells": [
  {
   "cell_type": "markdown",
   "metadata": {},
   "source": [
    "# SETUP \n",
    "\n",
    "### To run on GPU set \"CUDA_VISIBLE_DEVICES\" to the GPU number [0,1,2,etc] you wish to use.  To run on CPU, leave blank as \"\""
   ]
  },
  {
   "cell_type": "code",
   "execution_count": 3,
   "metadata": {},
   "outputs": [
    {
     "data": {
      "text/html": [
       "<style>.container { width:100% !important; }</style>"
      ],
      "text/plain": [
       "<IPython.core.display.HTML object>"
      ]
     },
     "metadata": {},
     "output_type": "display_data"
    }
   ],
   "source": [
    "from numpy.random import seed\n",
    "from pandas import read_csv, DataFrame\n",
    "from sklearn.preprocessing import minmax_scale\n",
    "from keras.layers.convolutional import Conv1D, MaxPooling1D\n",
    "from keras import optimizers\n",
    "from keras.models import Sequential\n",
    "from keras.layers import Dense, Flatten\n",
    "from keras.utils import to_categorical\n",
    "from sklearn.metrics import roc_auc_score\n",
    "from sklearn.model_selection import StratifiedKFold\n",
    "import os\n",
    "from IPython.core.display import display, HTML\n",
    "display(HTML(\"<style>.container { width:100% !important; }</style>\")) #this line expands notebook display horizontally\n",
    "os.environ[\"CUDA_VISIBLE_DEVICES\"]=\"\" #Comment this line out if you want all GPUS (2 hehe)"
   ]
  },
  {
   "cell_type": "markdown",
   "metadata": {},
   "source": [
    "# Funcs to create model and train model"
   ]
  },
  {
   "cell_type": "code",
   "execution_count": 95,
   "metadata": {},
   "outputs": [],
   "source": [
    "def create_model():\n",
    "    model = Sequential()\n",
    "    model.add(Conv1D(32, 8, input_shape = (3664, 1), activation = 'relu'))\n",
    "    model.add(MaxPooling1D(2))\n",
    "    model.add(Conv1D(64, 8,  activation = 'relu'))\n",
    "    model.add(MaxPooling1D(2))\n",
    "    model.add(Conv1D(128, 8, activation = 'relu'))\n",
    "    model.add(MaxPooling1D(2))\n",
    "    model.add(Conv1D(256, 8,  activation = 'relu'))\n",
    "    model.add(MaxPooling1D(2))\n",
    "    model.add(Flatten())\n",
    "    model.add(Dense(256, activation = 'relu'))\n",
    "    model.add(Dense(128, activation = 'relu'))\n",
    "    model.add(Dense(3, activation = 'softmax'))\n",
    "    return model\n",
    "\n",
    "def train_model(model, X_train, Y_train, X_val, Y_val):\n",
    "    model.compile(loss='categorical_crossentropy', optimizer=optimizers.Adam(lr = 1e-3), metrics = ['accuracy'])\n",
    "    model.fit(X_train, Y_train, batch_size = 8, validation_data = (X_val, Y_val), epochs = 4)\n",
    "    model.compile(loss='categorical_crossentropy', optimizer=optimizers.Adam(lr = 1e-4), metrics = ['accuracy'])\n",
    "    model.fit(X_train, Y_train, batch_size = 8, validation_data = (X_val, Y_val), epochs = 2)\n",
    "    pred = model.predict(X_val)\n",
    "    print(roc_auc_score(Y_val[:,0], pred[:,0]),roc_auc_score(Y_val[:,1], pred[:,1]), roc_auc_score(Y_val[:,2], pred[:,2]))\n",
    "    return roc_auc_score(Y_val[:,0], pred[:,0]),roc_auc_score(Y_val[:,1], pred[:,1]), roc_auc_score(Y_val[:,2], pred[:,2])"
   ]
  },
  {
   "cell_type": "markdown",
   "metadata": {},
   "source": [
    "# Prep our training data"
   ]
  },
  {
   "cell_type": "code",
   "execution_count": null,
   "metadata": {},
   "outputs": [],
   "source": [
    "import pandas as pd\n",
    "import numpy as np\n",
    "df = pd.read_csv('../data/simulations.csv')\n",
    "prec = []\n",
    "eci = []\n",
    "spin = []\n",
    "\n",
    "for column in df:\n",
    "    if 'prec' in column:\n",
    "        prec.append(df[column])\n",
    "    elif 'spin' in column:\n",
    "        spin.append(df[column])\n",
    "    elif 'eci' in column:\n",
    "        eci.append(df[column])\n",
    "    else:\n",
    "        print(\"Unknown\")\n",
    "print(len(prec), len(spin), len(eci))\n",
    "\n",
    "X_train = []\n",
    "Y_train = []\n",
    "X_val = []\n",
    "Y_val = []\n",
    "\n",
    "for j in prec:\n",
    "    Y_train.append(0)\n",
    "X_train += prec\n",
    "\n",
    "for j in eci:\n",
    "    Y_train.append(1)\n",
    "X_train += eci\n",
    "\n",
    "for j in spin:\n",
    "    Y_train.append(2)\n",
    "X_train += spin\n",
    "\n",
    "X_train = np.array(X_train)\n",
    "Y_train = np.array(Y_train)\n",
    "X_train = np.expand_dims(X_train, axis=2)"
   ]
  },
  {
   "cell_type": "markdown",
   "metadata": {},
   "source": [
    "# Stratified 10-fold (results are mean AUROC and std AUROC for each class)"
   ]
  },
  {
   "cell_type": "code",
   "execution_count": null,
   "metadata": {},
   "outputs": [
    {
     "name": "stdout",
     "output_type": "stream",
     "text": [
      "Unknown\n",
      "3404 3423 3167\n",
      "Training on fold 1/10...\n",
      "Train on 8993 samples, validate on 1001 samples\n",
      "Epoch 1/4\n",
      "8993/8993 [==============================] - 170s 19ms/step - loss: 0.4177 - acc: 0.8274 - val_loss: 0.3064 - val_acc: 0.8691\n",
      "Epoch 2/4\n",
      "8993/8993 [==============================] - 169s 19ms/step - loss: 0.3156 - acc: 0.8756 - val_loss: 0.2642 - val_acc: 0.9031\n",
      "Epoch 3/4\n",
      "8993/8993 [==============================] - 172s 19ms/step - loss: 0.2733 - acc: 0.8946 - val_loss: 0.2510 - val_acc: 0.9001\n",
      "Epoch 4/4\n",
      "8993/8993 [==============================] - 176s 20ms/step - loss: 0.2726 - acc: 0.8975 - val_loss: 0.2251 - val_acc: 0.9131\n",
      "Train on 8993 samples, validate on 1001 samples\n",
      "Epoch 1/2\n",
      "8993/8993 [==============================] - 182s 20ms/step - loss: 0.1264 - acc: 0.9593 - val_loss: 0.1170 - val_acc: 0.9630\n",
      "Epoch 2/2\n",
      "1520/8993 [====>.........................] - ETA: 2:31 - loss: 0.0606 - acc: 0.9855"
     ]
    }
   ],
   "source": [
    "P = []\n",
    "E = []\n",
    "S = []\n",
    "skf = StratifiedKFold(n_splits=10,  shuffle=True)\n",
    "for index, (train_indices, val_indices) in enumerate(skf.split(X_train, Y_train)):\n",
    "    print(\"Training on fold \" + str(index+1) + \"/10...\")\n",
    "    # Generate batches from indices\n",
    "    xtrain, xval = X_train[train_indices], X_train[val_indices]\n",
    "    ytrain, yval = to_categorical(Y_train[train_indices], 3), to_categorical(Y_train[val_indices], 3)\n",
    "    # Clear model, and create it\n",
    "    model = None\n",
    "    model = create_model()\n",
    "    \n",
    "    p, s, e = train_model(model, xtrain, ytrain, xval, yval)\n",
    "    P.append(p)\n",
    "    E.append(e)\n",
    "    S.append(s)\n",
    "\n",
    "print(\"Prec = \", np.mean(P), \" +/-\", np.std(P))\n",
    "print(\"ECI = \", np.mean(E), \" +/-\", np.std(E))\n",
    "print(\"Spin = \", np.mean(S), \" +/-\", np.std(S))"
   ]
  }
 ],
 "metadata": {
  "kernelspec": {
   "display_name": "Python 3",
   "language": "python",
   "name": "python3"
  },
  "language_info": {
   "codemirror_mode": {
    "name": "ipython",
    "version": 3
   },
   "file_extension": ".py",
   "mimetype": "text/x-python",
   "name": "python",
   "nbconvert_exporter": "python",
   "pygments_lexer": "ipython3",
   "version": "3.5.2"
  }
 },
 "nbformat": 4,
 "nbformat_minor": 2
}
