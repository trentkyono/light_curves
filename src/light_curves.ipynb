{
 "cells": [
  {
   "cell_type": "markdown",
   "metadata": {},
   "source": [
    "# SETUP \n",
    "\n",
    "### To run on GPU set \"CUDA_VISIBLE_DEVICES\" to the GPU number [0,1,2,etc] you wish to use.  To run on CPU, leave blank as \"\""
   ]
  },
  {
   "cell_type": "code",
   "execution_count": 127,
   "metadata": {},
   "outputs": [
    {
     "data": {
      "text/html": [
       "<style>.container { width:100% !important; }</style>"
      ],
      "text/plain": [
       "<IPython.core.display.HTML object>"
      ]
     },
     "metadata": {},
     "output_type": "display_data"
    }
   ],
   "source": [
    "from numpy.random import seed\n",
    "from pandas import read_csv, DataFrame\n",
    "from sklearn.preprocessing import minmax_scale\n",
    "from keras.layers.convolutional import Conv1D, MaxPooling1D\n",
    "from keras import optimizers\n",
    "from keras.models import Sequential\n",
    "from keras.layers import Dense, Flatten, Dropout, BatchNormalization\n",
    "from keras.utils import to_categorical\n",
    "from sklearn.metrics import roc_auc_score\n",
    "from sklearn.model_selection import StratifiedKFold\n",
    "import os\n",
    "from IPython.core.display import display, HTML\n",
    "display(HTML(\"<style>.container { width:100% !important; }</style>\")) #this line expands notebook display horizontally\n",
    "os.environ[\"CUDA_VISIBLE_DEVICES\"]=\"\" #Comment this line out if you want all GPUS (2 hehe)"
   ]
  },
  {
   "cell_type": "markdown",
   "metadata": {},
   "source": [
    "# Funcs to create model and train model"
   ]
  },
  {
   "cell_type": "code",
   "execution_count": 138,
   "metadata": {},
   "outputs": [],
   "source": [
    "def create_model():\n",
    "    model = Sequential()\n",
    "    model.add(Conv1D(32, 8, input_shape = (3664, 1), activation = 'relu'))\n",
    "    model.add(MaxPooling1D(2))\n",
    "    model.add(BatchNormalization())\n",
    "    model.add(Conv1D(64, 8,  activation = 'relu'))\n",
    "    model.add(MaxPooling1D(2))\n",
    "    model.add(BatchNormalization())\n",
    "    model.add(Conv1D(128, 8, activation = 'relu'))\n",
    "    model.add(MaxPooling1D(2))\n",
    "    model.add(BatchNormalization())\n",
    "    model.add(Conv1D(256, 8,  activation = 'relu'))\n",
    "    model.add(MaxPooling1D(2))\n",
    "    model.add(BatchNormalization())\n",
    "    model.add(Flatten())\n",
    "    model.add(Dense(256, activation = 'relu'))\n",
    "    model.add(Dropout(0.2))\n",
    "    model.add(Dense(128, activation = 'relu'))\n",
    "    model.add(Dropout(0.2))\n",
    "    model.add(Dense(3, activation = 'softmax'))\n",
    "    return model\n",
    "\n",
    "def train_model(model, X_train, Y_train, X_val, Y_val):\n",
    "    model.compile(loss='categorical_crossentropy', optimizer=optimizers.Adam(lr = 1e-4), metrics = ['accuracy'])\n",
    "    model.fit(X_train, Y_train, batch_size = 16, validation_data = (X_val, Y_val), epochs = 4)\n",
    "\n",
    "    pred = model.predict(X_val)\n",
    "    print(roc_auc_score(Y_val[:,0], pred[:,0]),roc_auc_score(Y_val[:,1], pred[:,1]), roc_auc_score(Y_val[:,2], pred[:,2]))\n",
    "    return roc_auc_score(Y_val[:,0], pred[:,0]),roc_auc_score(Y_val[:,1], pred[:,1]), roc_auc_score(Y_val[:,2], pred[:,2])"
   ]
  },
  {
   "cell_type": "markdown",
   "metadata": {},
   "source": [
    "# Prep our training data"
   ]
  },
  {
   "cell_type": "code",
   "execution_count": 124,
   "metadata": {},
   "outputs": [
    {
     "name": "stdout",
     "output_type": "stream",
     "text": [
      "Unknown\n",
      "3404 3423 3167\n"
     ]
    }
   ],
   "source": [
    "import pandas as pd\n",
    "import numpy as np\n",
    "df = pd.read_csv('../data/simulations.csv')\n",
    "prec = []\n",
    "eci = []\n",
    "spin = []\n",
    "\n",
    "for column in df:\n",
    "    if 'prec' in column:\n",
    "        prec.append(df[column])\n",
    "    elif 'spin' in column:\n",
    "        spin.append(df[column])\n",
    "    elif 'eci' in column:\n",
    "        eci.append(df[column])\n",
    "    else:\n",
    "        print(\"Unknown\")\n",
    "print(len(prec), len(spin), len(eci))\n",
    "\n",
    "X_train = []\n",
    "Y_train = []\n",
    "X_val = []\n",
    "Y_val = []\n",
    "\n",
    "for j in prec:\n",
    "    Y_train.append(0)\n",
    "X_train += prec\n",
    "\n",
    "for j in eci:\n",
    "    Y_train.append(1)\n",
    "X_train += eci\n",
    "\n",
    "for j in spin:\n",
    "    Y_train.append(2)\n",
    "X_train += spin\n",
    "\n",
    "X_train = np.array(X_train)\n",
    "Y_train = np.array(Y_train)\n",
    "X_train = np.expand_dims(X_train, axis=2)"
   ]
  },
  {
   "cell_type": "markdown",
   "metadata": {},
   "source": [
    "# Stratified 10-fold (results are mean AUROC and std AUROC for each class)"
   ]
  },
  {
   "cell_type": "code",
   "execution_count": null,
   "metadata": {},
   "outputs": [
    {
     "name": "stdout",
     "output_type": "stream",
     "text": [
      "Training on fold 1/10...\n",
      "Train on 8993 samples, validate on 1001 samples\n",
      "Epoch 1/4\n",
      "8993/8993 [==============================] - 132s 15ms/step - loss: 0.3022 - acc: 0.9218 - val_loss: 0.1293 - val_acc: 0.9600\n",
      "Epoch 2/4\n",
      "8993/8993 [==============================] - 134s 15ms/step - loss: 0.1397 - acc: 0.9559 - val_loss: 0.1898 - val_acc: 0.9520\n",
      "Epoch 3/4\n",
      "8993/8993 [==============================] - 133s 15ms/step - loss: 0.1193 - acc: 0.9616 - val_loss: 0.1991 - val_acc: 0.9451\n",
      "Epoch 4/4\n",
      "8993/8993 [==============================] - 136s 15ms/step - loss: 0.1046 - acc: 0.9699 - val_loss: 0.0854 - val_acc: 0.9740\n",
      "0.9966453390207056 0.9998708653863891 0.9944260813313601\n",
      "Training on fold 2/10...\n",
      "Train on 8993 samples, validate on 1001 samples\n",
      "Epoch 1/4\n",
      "8993/8993 [==============================] - 141s 16ms/step - loss: 0.3058 - acc: 0.9214 - val_loss: 0.1128 - val_acc: 0.9610\n",
      "Epoch 2/4\n",
      "8993/8993 [==============================] - 138s 15ms/step - loss: 0.1734 - acc: 0.9521 - val_loss: 0.0494 - val_acc: 0.9820\n",
      "Epoch 3/4\n",
      "8993/8993 [==============================] - 128s 14ms/step - loss: 0.1340 - acc: 0.9624 - val_loss: 0.0713 - val_acc: 0.9730\n",
      "Epoch 4/4\n",
      "8993/8993 [==============================] - 133s 15ms/step - loss: 0.0854 - acc: 0.9731 - val_loss: 0.1167 - val_acc: 0.9770\n",
      "0.9971740869101573 0.9999907760990279 0.9915815218836123\n",
      "Training on fold 3/10...\n",
      "Train on 8993 samples, validate on 1001 samples\n",
      "Epoch 1/4\n",
      "8720/8993 [============================>.] - ETA: 4s - loss: 0.2720 - acc: 0.9187"
     ]
    }
   ],
   "source": [
    "P = []\n",
    "E = []\n",
    "S = []\n",
    "skf = StratifiedKFold(n_splits=10,  shuffle=True)\n",
    "for index, (train_indices, val_indices) in enumerate(skf.split(X_train, Y_train)):\n",
    "    print(\"Training on fold \" + str(index+1) + \"/10...\")\n",
    "    # Generate batches from indices\n",
    "    xtrain, xval = X_train[train_indices], X_train[val_indices]\n",
    "    ytrain, yval = to_categorical(Y_train[train_indices], 3), to_categorical(Y_train[val_indices], 3)\n",
    "    # Clear model, and create it\n",
    "    model = None\n",
    "    model = create_model()\n",
    "    \n",
    "    p, s, e = train_model(model, xtrain, ytrain, xval, yval)\n",
    "    P.append(p)\n",
    "    E.append(e)\n",
    "    S.append(s)\n",
    "\n",
    "print(\"Prec = \", np.mean(P), \" +/-\", np.std(P))\n",
    "print(\"ECI = \", np.mean(E), \" +/-\", np.std(E))\n",
    "print(\"Spin = \", np.mean(S), \" +/-\", np.std(S))"
   ]
  },
  {
   "cell_type": "code",
   "execution_count": null,
   "metadata": {},
   "outputs": [],
   "source": []
  }
 ],
 "metadata": {
  "kernelspec": {
   "display_name": "Python 3",
   "language": "python",
   "name": "python3"
  },
  "language_info": {
   "codemirror_mode": {
    "name": "ipython",
    "version": 3
   },
   "file_extension": ".py",
   "mimetype": "text/x-python",
   "name": "python",
   "nbconvert_exporter": "python",
   "pygments_lexer": "ipython3",
   "version": "3.5.2"
  }
 },
 "nbformat": 4,
 "nbformat_minor": 2
}
